{
 "cells": [
  {
   "cell_type": "markdown",
   "metadata": {},
   "source": [
    "# Modelo 2: Ajustes do Artigo BackProp"
   ]
  },
  {
   "cell_type": "markdown",
   "metadata": {},
   "source": [
    "# Importação de Variáveis e Indicadores"
   ]
  },
  {
   "cell_type": "code",
   "execution_count": 80,
   "metadata": {},
   "outputs": [],
   "source": [
    "import pandas as pd\n",
    "import numpy as np\n",
    "import matplotlib.pyplot as plt\n",
    "\n",
    "btc = pd.read_excel(\"../wrangled_data/serie_bitcoin.xlsx\", index_col = \"Data\")\n",
    "variaveis = pd.read_excel(\"../wrangled_data/variaveis.xlsx\", index_col = \"Data\")"
   ]
  },
  {
   "cell_type": "markdown",
   "metadata": {},
   "source": [
    "# Período de Treinamento e Teste"
   ]
  },
  {
   "cell_type": "code",
   "execution_count": 81,
   "metadata": {},
   "outputs": [],
   "source": [
    "# Período de Treinamento\n",
    "ini_treino = \"2014-02-01\"\n",
    "fim_treino = \"2017-05-17\"\n",
    "\n",
    "# Período de Teste\n",
    "ini_teste = \"2017-05-18\"\n",
    "fim_teste = \"2021-07-31\""
   ]
  },
  {
   "cell_type": "markdown",
   "metadata": {},
   "source": [
    "#### Stop Fixo por operação"
   ]
  },
  {
   "cell_type": "code",
   "execution_count": 82,
   "metadata": {},
   "outputs": [
    {
     "data": {
      "text/html": [
       "<div>\n",
       "<style scoped>\n",
       "    .dataframe tbody tr th:only-of-type {\n",
       "        vertical-align: middle;\n",
       "    }\n",
       "\n",
       "    .dataframe tbody tr th {\n",
       "        vertical-align: top;\n",
       "    }\n",
       "\n",
       "    .dataframe thead th {\n",
       "        text-align: right;\n",
       "    }\n",
       "</style>\n",
       "<table border=\"1\" class=\"dataframe\">\n",
       "  <thead>\n",
       "    <tr style=\"text-align: right;\">\n",
       "      <th></th>\n",
       "      <th>Retorno</th>\n",
       "      <th>Alvo_Contínuo</th>\n",
       "      <th>Alvo_Binário</th>\n",
       "      <th>Stop_Long</th>\n",
       "      <th>Stop_Short</th>\n",
       "    </tr>\n",
       "    <tr>\n",
       "      <th>Data</th>\n",
       "      <th></th>\n",
       "      <th></th>\n",
       "      <th></th>\n",
       "      <th></th>\n",
       "      <th></th>\n",
       "    </tr>\n",
       "  </thead>\n",
       "  <tbody>\n",
       "    <tr>\n",
       "      <th>2010-07-18</th>\n",
       "      <td>0.733791</td>\n",
       "      <td>-0.058714</td>\n",
       "      <td>0.0</td>\n",
       "      <td>0.0</td>\n",
       "      <td>0.0</td>\n",
       "    </tr>\n",
       "    <tr>\n",
       "      <th>2010-07-19</th>\n",
       "      <td>-0.058714</td>\n",
       "      <td>-0.075083</td>\n",
       "      <td>0.0</td>\n",
       "      <td>0.0</td>\n",
       "      <td>0.0</td>\n",
       "    </tr>\n",
       "    <tr>\n",
       "      <th>2010-07-20</th>\n",
       "      <td>-0.075083</td>\n",
       "      <td>0.059902</td>\n",
       "      <td>1.0</td>\n",
       "      <td>0.0</td>\n",
       "      <td>0.0</td>\n",
       "    </tr>\n",
       "    <tr>\n",
       "      <th>2010-07-21</th>\n",
       "      <td>0.059902</td>\n",
       "      <td>-0.293713</td>\n",
       "      <td>0.0</td>\n",
       "      <td>1.0</td>\n",
       "      <td>0.0</td>\n",
       "    </tr>\n",
       "    <tr>\n",
       "      <th>2010-07-22</th>\n",
       "      <td>-0.293713</td>\n",
       "      <td>0.113296</td>\n",
       "      <td>1.0</td>\n",
       "      <td>0.0</td>\n",
       "      <td>1.0</td>\n",
       "    </tr>\n",
       "  </tbody>\n",
       "</table>\n",
       "</div>"
      ],
      "text/plain": [
       "             Retorno  Alvo_Contínuo  Alvo_Binário  Stop_Long  Stop_Short\n",
       "Data                                                                    \n",
       "2010-07-18  0.733791      -0.058714           0.0        0.0         0.0\n",
       "2010-07-19 -0.058714      -0.075083           0.0        0.0         0.0\n",
       "2010-07-20 -0.075083       0.059902           1.0        0.0         0.0\n",
       "2010-07-21  0.059902      -0.293713           0.0        1.0         0.0\n",
       "2010-07-22 -0.293713       0.113296           1.0        0.0         1.0"
      ]
     },
     "execution_count": 82,
     "metadata": {},
     "output_type": "execute_result"
    }
   ],
   "source": [
    "stop_fixo = pd.DataFrame()\n",
    "stop_fixo[\"Retorno\"] = btc[\"Fechamento\"].pct_change()\n",
    "stop_fixo[\"Alvo_Contínuo\"] = pd.Series(stop_fixo[\"Retorno\"])\n",
    "stop_fixo[\"Alvo_Binário\"] = np.where(stop_fixo[\"Retorno\"] > 0, 1, 0)\n",
    "\n",
    "STOP = 0.2\n",
    "stop_fixo[\"Stop_Long\"] = np.where(btc[\"Abertura\"]/btc[\"Mínima\"] > (1+STOP), 1, 0)\n",
    "stop_fixo[\"Stop_Short\"] = np.where(btc[\"Máxima\"]/btc[\"Abertura\"] > (1+STOP), 1, 0)\n",
    "stop_fixo[[\"Alvo_Contínuo\", \"Alvo_Binário\", \"Stop_Long\", \"Stop_Short\"]] = stop_fixo[[\"Alvo_Contínuo\", \"Alvo_Binário\", \"Stop_Long\", \"Stop_Short\"]].shift(-1) \n",
    "stop_fixo.dropna(inplace = True)\n",
    "\n",
    "stop_fixo.head()"
   ]
  },
  {
   "cell_type": "markdown",
   "metadata": {},
   "source": [
    "#### Stop Ajustado pela Volatilidade"
   ]
  },
  {
   "cell_type": "code",
   "execution_count": 83,
   "metadata": {},
   "outputs": [
    {
     "data": {
      "text/html": [
       "<div>\n",
       "<style scoped>\n",
       "    .dataframe tbody tr th:only-of-type {\n",
       "        vertical-align: middle;\n",
       "    }\n",
       "\n",
       "    .dataframe tbody tr th {\n",
       "        vertical-align: top;\n",
       "    }\n",
       "\n",
       "    .dataframe thead th {\n",
       "        text-align: right;\n",
       "    }\n",
       "</style>\n",
       "<table border=\"1\" class=\"dataframe\">\n",
       "  <thead>\n",
       "    <tr style=\"text-align: right;\">\n",
       "      <th></th>\n",
       "      <th>Retorno</th>\n",
       "      <th>Alvo_Contínuo</th>\n",
       "      <th>Alvo_Binário</th>\n",
       "      <th>Stop_Short</th>\n",
       "      <th>Stop_Long</th>\n",
       "    </tr>\n",
       "    <tr>\n",
       "      <th>Data</th>\n",
       "      <th></th>\n",
       "      <th></th>\n",
       "      <th></th>\n",
       "      <th></th>\n",
       "      <th></th>\n",
       "    </tr>\n",
       "  </thead>\n",
       "  <tbody>\n",
       "    <tr>\n",
       "      <th>2010-07-18</th>\n",
       "      <td>0.733791</td>\n",
       "      <td>-0.058714</td>\n",
       "      <td>1</td>\n",
       "      <td>0.0</td>\n",
       "      <td>0.0</td>\n",
       "    </tr>\n",
       "    <tr>\n",
       "      <th>2010-07-19</th>\n",
       "      <td>-0.058714</td>\n",
       "      <td>-0.075083</td>\n",
       "      <td>0</td>\n",
       "      <td>1.0</td>\n",
       "      <td>0.0</td>\n",
       "    </tr>\n",
       "    <tr>\n",
       "      <th>2010-07-20</th>\n",
       "      <td>-0.075083</td>\n",
       "      <td>0.059902</td>\n",
       "      <td>0</td>\n",
       "      <td>0.0</td>\n",
       "      <td>0.0</td>\n",
       "    </tr>\n",
       "    <tr>\n",
       "      <th>2010-07-21</th>\n",
       "      <td>0.059902</td>\n",
       "      <td>-0.293713</td>\n",
       "      <td>1</td>\n",
       "      <td>0.0</td>\n",
       "      <td>0.0</td>\n",
       "    </tr>\n",
       "    <tr>\n",
       "      <th>2010-07-22</th>\n",
       "      <td>-0.293713</td>\n",
       "      <td>0.113296</td>\n",
       "      <td>0</td>\n",
       "      <td>0.0</td>\n",
       "      <td>0.0</td>\n",
       "    </tr>\n",
       "  </tbody>\n",
       "</table>\n",
       "</div>"
      ],
      "text/plain": [
       "             Retorno  Alvo_Contínuo  Alvo_Binário  Stop_Short  Stop_Long\n",
       "Data                                                                    \n",
       "2010-07-18  0.733791      -0.058714             1         0.0        0.0\n",
       "2010-07-19 -0.058714      -0.075083             0         1.0        0.0\n",
       "2010-07-20 -0.075083       0.059902             0         0.0        0.0\n",
       "2010-07-21  0.059902      -0.293713             1         0.0        0.0\n",
       "2010-07-22 -0.293713       0.113296             0         0.0        0.0"
      ]
     },
     "execution_count": 83,
     "metadata": {},
     "output_type": "execute_result"
    }
   ],
   "source": [
    "stop_vol = pd.DataFrame()\n",
    "stop_vol[\"Retorno\"] = btc[\"Fechamento\"].pct_change()\n",
    "stop_vol[\"Alvo_Contínuo\"] = pd.Series(stop_vol[\"Retorno\"]).shift(-1)\n",
    "stop_vol[\"Alvo_Binário\"] = np.where(stop_vol[\"Retorno\"] > 0, 1, 0)\n",
    "\n",
    "# Distâncias entre a abertura e os extremos do candle\n",
    "stop_vol[\"d_max\"] = (btc[\"Máxima\"]/btc[\"Abertura\"])-1\n",
    "stop_vol[\"d_min\"] = (btc[\"Abertura\"]/btc[\"Mínima\"])-1\n",
    "\n",
    "# Desvio-padrão amostral das distâncias da série \n",
    "sd_d_max, sd_d_min = stop_vol[\"d_max\"].std(), stop_vol[\"d_min\"].std()\n",
    "\n",
    "stop_vol[\"Stop_Short\"] = np.where(stop_vol[\"d_max\"] > 2*sd_d_max, 1, 0)\n",
    "stop_vol[\"Stop_Short\"] = stop_vol[\"Stop_Short\"].shift()\n",
    "\n",
    "stop_vol[\"Stop_Long\"] = np.where(stop_vol[\"d_min\"] > 2*sd_d_min, 1, 0)\n",
    "stop_vol[\"Stop_Long\"] = stop_vol[\"Stop_Long\"].shift()\n",
    "stop_vol.dropna(inplace = True)\n",
    "stop_vol.drop([\"d_max\", \"d_min\"], axis = 1, inplace = True)\n",
    "stop_vol.head()"
   ]
  },
  {
   "cell_type": "markdown",
   "metadata": {},
   "source": [
    "# Separação Treinamento - Teste"
   ]
  },
  {
   "cell_type": "code",
   "execution_count": 84,
   "metadata": {},
   "outputs": [],
   "source": [
    "df = variaveis.join(stop_fixo)\n",
    "\n",
    "X_train = variaveis[ini_treino:fim_treino]\n",
    "y_train = np.where(df[\"Alvo_Binário\"][ini_treino:fim_treino] == 1, 1, -1)\n",
    "\n",
    "X_test = variaveis[ini_teste:fim_teste]\n",
    "y_test = np.where(df[\"Alvo_Binário\"][ini_teste:fim_teste] == 1, 1, -1)"
   ]
  },
  {
   "cell_type": "markdown",
   "metadata": {},
   "source": [
    "#### Padronização"
   ]
  },
  {
   "cell_type": "code",
   "execution_count": 85,
   "metadata": {},
   "outputs": [],
   "source": [
    "from sklearn.preprocessing import StandardScaler\n",
    "\n",
    "scaler = StandardScaler()\n",
    "X_train_norm = scaler.fit_transform(X_train)\n",
    "X_test_norm = scaler.transform(X_test)"
   ]
  },
  {
   "cell_type": "markdown",
   "metadata": {},
   "source": [
    "#### PCA"
   ]
  },
  {
   "cell_type": "code",
   "execution_count": 86,
   "metadata": {},
   "outputs": [
    {
     "data": {
      "text/plain": [
       "array([0.21, 0.33, 0.42, 0.48, 0.54, 0.59, 0.63, 0.66, 0.7 , 0.73, 0.76,\n",
       "       0.79, 0.81, 0.84, 0.86, 0.88, 0.9 , 0.92, 0.93, 0.94, 0.96, 0.97,\n",
       "       0.98, 0.98, 0.99, 0.99, 1.  , 1.  , 1.  , 1.  , 1.  , 1.  ])"
      ]
     },
     "execution_count": 86,
     "metadata": {},
     "output_type": "execute_result"
    }
   ],
   "source": [
    "from sklearn.decomposition import PCA\n",
    "\n",
    "pca = PCA()\n",
    "X_train = pca.fit_transform(X_train_norm)\n",
    "X_test = pca.transform(X_test_norm)\n",
    "pca.explained_variance_ratio_.cumsum().round(2)"
   ]
  },
  {
   "cell_type": "markdown",
   "metadata": {},
   "source": [
    "# Modelagem"
   ]
  },
  {
   "cell_type": "code",
   "execution_count": 87,
   "metadata": {},
   "outputs": [],
   "source": [
    "from sklearn.neural_network import MLPClassifier\n",
    "from sklearn.metrics import classification_report, confusion_matrix, accuracy_score, roc_curve, auc, RocCurveDisplay\n",
    "from sklearn.model_selection import GridSearchCV\n",
    "from sklearn.model_selection import RandomizedSearchCV"
   ]
  },
  {
   "cell_type": "markdown",
   "metadata": {},
   "source": [
    "### Otimização\n",
    "\n",
    "Hiperparâmetros a serem otimizados:\n",
    "\n",
    "* hidden_layer_sizes -> tupla contendo o número de neurônios dentro de cada camada (padrão: uma camada de 100 neurons)\n",
    "* max_iter -> número máximo de iterações a serem realizadas pelo método de backpropagation\n",
    "* alpha -> o valor máximo de alteração dos coeficientes em cada iteração, para minimizar a função de custo (padrão: 0.0001)\n",
    "* solver -> Algoritmo utilizado para encontrar a solução ótima, cujo tempo de obtenção da resposta varia. Opções: 'lbfgs', 'sgd' e 'adam'."
   ]
  },
  {
   "cell_type": "markdown",
   "metadata": {},
   "source": [
    "# Ajustes:\n",
    "\n",
    "* Incorporação de PCA e normalização\n",
    "* Amostras de treino aleatórias\n",
    "* Ativação: tangente hiperbólica\n",
    "* Outputs -1 e 1\n",
    "* Gradiente Descendente Estocástico\n",
    "* Learning rate = adaptive\n",
    "* alphas = np.logspace(-1, 1, 5)"
   ]
  },
  {
   "cell_type": "markdown",
   "metadata": {},
   "source": [
    "#### Treinamento"
   ]
  },
  {
   "cell_type": "code",
   "execution_count": 36,
   "metadata": {},
   "outputs": [],
   "source": [
    "# modelo = MLPClassifier(random_state = 42, shuffle = True, activation = \"tanh\", solver = \"sgd\", learning_rate = \"adaptive\")\n",
    "\n",
    "# parametros = {'alpha': np.logspace(-1, 1, 20),\n",
    "#               'max_iter': [5, 15, 25, 50, 100]}\n",
    "\n",
    "# melhor_modelo = GridSearchCV(modelo, parametros, n_jobs = -1, cv = 10, scoring = \"roc_auc\")\n",
    "# melhor_modelo.fit(X_train, y_train)\n",
    "\n",
    "# print('Melhor conjunto de parâmetros:\\n', melhor_modelo.best_params_)"
   ]
  },
  {
   "cell_type": "code",
   "execution_count": 88,
   "metadata": {},
   "outputs": [
    {
     "name": "stderr",
     "output_type": "stream",
     "text": [
      "C:\\Users\\Bruno Marcelino\\anaconda3\\lib\\site-packages\\sklearn\\neural_network\\_multilayer_perceptron.py:692: ConvergenceWarning: Stochastic Optimizer: Maximum iterations (200) reached and the optimization hasn't converged yet.\n",
      "  warnings.warn(\n"
     ]
    },
    {
     "data": {
      "text/plain": [
       "MLPClassifier(activation='tanh', learning_rate='adaptive', random_state=42,\n",
       "              solver='sgd')"
      ]
     },
     "execution_count": 88,
     "metadata": {},
     "output_type": "execute_result"
    }
   ],
   "source": [
    "melhor_modelo = MLPClassifier(random_state = 42, shuffle = True, activation = \"tanh\", solver = \"sgd\", learning_rate = \"adaptive\")\n",
    "melhor_modelo.fit(X_train, y_train)"
   ]
  },
  {
   "cell_type": "markdown",
   "metadata": {},
   "source": [
    "#### Teste"
   ]
  },
  {
   "cell_type": "code",
   "execution_count": 89,
   "metadata": {},
   "outputs": [
    {
     "data": {
      "text/plain": [
       "<AxesSubplot:title={'center':'Probabilidades'}>"
      ]
     },
     "execution_count": 89,
     "metadata": {},
     "output_type": "execute_result"
    },
    {
     "data": {
      "image/png": "[encoded data removed]",
      "text/plain": [
       "<Figure size 432x288 with 1 Axes>"
      ]
     },
     "metadata": {
      "needs_background": "light"
     },
     "output_type": "display_data"
    }
   ],
   "source": [
    "y_pred_train = melhor_modelo.predict(X_train)\n",
    "y_pred_test = melhor_modelo.predict(X_test)\n",
    "\n",
    "y_proba_train = melhor_modelo.predict_proba(X_train)[:,1]\n",
    "y_proba_test = melhor_modelo.predict_proba(X_test)[:,1]\n",
    "pd.Series(y_proba_test).plot(title = \"Probabilidades\")"
   ]
  },
  {
   "cell_type": "markdown",
   "metadata": {},
   "source": [
    "#### Avaliação"
   ]
  },
  {
   "cell_type": "code",
   "execution_count": 90,
   "metadata": {},
   "outputs": [
    {
     "name": "stdout",
     "output_type": "stream",
     "text": [
      "[[167 219]\n",
      " [105 353]]\n",
      "\n",
      "0.6161137440758294\n",
      "\n",
      "              precision    recall  f1-score   support\n",
      "\n",
      "          -1       0.61      0.43      0.51       386\n",
      "           1       0.62      0.77      0.69       458\n",
      "\n",
      "    accuracy                           0.62       844\n",
      "   macro avg       0.62      0.60      0.60       844\n",
      "weighted avg       0.62      0.62      0.60       844\n",
      "\n"
     ]
    }
   ],
   "source": [
    "# Treinamento\n",
    "print(confusion_matrix(y_train, y_pred_train))\n",
    "print()\n",
    "print(accuracy_score(y_train, y_pred_train))\n",
    "print()\n",
    "print(classification_report(y_train, y_pred_train))"
   ]
  },
  {
   "cell_type": "code",
   "execution_count": 57,
   "metadata": {},
   "outputs": [
    {
     "name": "stdout",
     "output_type": "stream",
     "text": [
      "[[203 299]\n",
      " [230 343]]\n",
      "\n",
      "0.5079069767441861\n",
      "\n",
      "              precision    recall  f1-score   support\n",
      "\n",
      "          -1       0.47      0.40      0.43       502\n",
      "           1       0.53      0.60      0.56       573\n",
      "\n",
      "    accuracy                           0.51      1075\n",
      "   macro avg       0.50      0.50      0.50      1075\n",
      "weighted avg       0.50      0.51      0.50      1075\n",
      "\n"
     ]
    }
   ],
   "source": [
    "# Teste\n",
    "print(confusion_matrix(y_test, y_pred_test))\n",
    "print()\n",
    "print(accuracy_score(y_test, y_pred_test))\n",
    "print()\n",
    "print(classification_report(y_test, y_pred_test))"
   ]
  },
  {
   "cell_type": "code",
   "execution_count": 91,
   "metadata": {},
   "outputs": [
    {
     "name": "stdout",
     "output_type": "stream",
     "text": [
      "AUC - Teste : 0.49712146179679195\n"
     ]
    },
    {
     "data": {
      "image/png": "[encoded data removed]",
      "text/plain": [
       "<Figure size 432x288 with 1 Axes>"
      ]
     },
     "metadata": {
      "needs_background": "light"
     },
     "output_type": "display_data"
    }
   ],
   "source": [
    "# Calculando a AUC (Area Under the Curve)\n",
    "fpr, tpr, thresholds = roc_curve(y_test, y_proba_test)\n",
    "roc_auc = auc(fpr, tpr)\n",
    "print(\"AUC - Teste :\", roc_auc)\n",
    "\n",
    "# Criando Curva ROC\n",
    "plt.plot([0,1], [0,1], linestyle = '--', label = 'Modelo Naive')\n",
    "plt.plot(fpr, tpr, label = 'Rede Neural')\n",
    "plt.ylabel('True Positive Rate')\n",
    "plt.xlabel('False Positive Rate')\n",
    "plt.title(\"ROC - Receiver Operating Characteristic\")\n",
    "plt.legend()\n",
    "plt.show()"
   ]
  },
  {
   "cell_type": "markdown",
   "metadata": {},
   "source": [
    "#### Sinais"
   ]
  },
  {
   "cell_type": "code",
   "execution_count": 92,
   "metadata": {},
   "outputs": [],
   "source": [
    "n_q = 100\n",
    "\n",
    "sinais = pd.DataFrame()\n",
    "sinais[\"Observado\"] = np.array(y_train)\n",
    "sinais[\"Probabilidades\"] = pd.Series(y_proba_train)\n",
    "sinais[\"Quantil\"] = pd.qcut(sinais[\"Probabilidades\"], n_q, False)\n",
    "sinais[\"Intervalo_Quantil\"] = pd.qcut(sinais[\"Probabilidades\"], n_q)"
   ]
  },
  {
   "cell_type": "markdown",
   "metadata": {},
   "source": [
    "##### Automatização do Ponto de Corte"
   ]
  },
  {
   "cell_type": "code",
   "execution_count": 93,
   "metadata": {},
   "outputs": [
    {
     "name": "stdout",
     "output_type": "stream",
     "text": [
      "Maior retorno no treinamento: [22.82522088]\n",
      "Quantis de Corte (20, 21)\n"
     ]
    }
   ],
   "source": [
    "# Automatização 2:\n",
    "pares = []\n",
    "for i in range(n_q):\n",
    "    for j in range(n_q):\n",
    "        if i < j:\n",
    "            pares.append((i,j))\n",
    "            \n",
    "def backtest(par):\n",
    "\n",
    "    lim_venda = par[0]\n",
    "    lim_compra = par[1]\n",
    "    \n",
    "    corte_compra = sinais[sinais[\"Quantil\"] == lim_compra][\"Intervalo_Quantil\"].iloc[0].left\n",
    "    corte_venda = sinais[sinais[\"Quantil\"] == lim_venda][\"Intervalo_Quantil\"].iloc[0].right\n",
    "    \n",
    "    resultado = pd.DataFrame()\n",
    "    resultado[\"Observado\"] = np.array(y_train)\n",
    "    resultado[\"Probabilidades\"] = pd.Series(y_proba_train)\n",
    "    resultado[\"Operação\"] = np.where(resultado[\"Probabilidades\"] > corte_compra, 1, np.where(resultado[\"Probabilidades\"] < corte_venda, -1, 0))\n",
    "\n",
    "    bt = pd.DataFrame()\n",
    "    bt[\"Alvo\"] = df[\"Alvo_Contínuo\"][ini_treino:fim_treino].reset_index(drop = True)\n",
    "    bt[\"Sinal\"] = resultado[\"Operação\"]\n",
    "    bt.index = df[\"Alvo_Contínuo\"][ini_treino:fim_treino].index\n",
    "    bt[\"Retorno Diário\"] = np.where(bt[\"Sinal\"] == 1, bt[\"Alvo\"], np.where(bt[\"Sinal\"] == -1, -bt[\"Alvo\"], 0))\n",
    "    bt[\"Retorno Acumulado\"] = (bt[\"Retorno Diário\"] + 1).cumprod()\n",
    "\n",
    "    return bt.tail(1)[\"Retorno Acumulado\"].values\n",
    "\n",
    "retornos = []\n",
    "for i in pares:\n",
    "    retornos.append(backtest(i))\n",
    "    \n",
    "print(\"Maior retorno no treinamento:\", max(retornos))\n",
    "print(\"Quantis de Corte\", pares[retornos.index(max(retornos))])\n",
    "\n",
    "lim_compra = pares[retornos.index(max(retornos))][1]\n",
    "lim_venda = pares[retornos.index(max(retornos))][0]\n",
    "\n",
    "corte_compra = sinais[sinais[\"Quantil\"] == lim_compra][\"Intervalo_Quantil\"].iloc[0].left\n",
    "corte_venda = sinais[sinais[\"Quantil\"] == lim_venda][\"Intervalo_Quantil\"].iloc[0].right"
   ]
  },
  {
   "cell_type": "markdown",
   "metadata": {},
   "source": [
    "#### Backtest"
   ]
  },
  {
   "cell_type": "code",
   "execution_count": 94,
   "metadata": {},
   "outputs": [
    {
     "name": "stdout",
     "output_type": "stream",
     "text": [
      "Retorno BH: [610.09662673] %\n",
      "Retorno do Modelo: [-94.82982172] %\n"
     ]
    },
    {
     "data": {
      "text/plain": [
       "<AxesSubplot:xlabel='Data'>"
      ]
     },
     "execution_count": 94,
     "metadata": {},
     "output_type": "execute_result"
    },
    {
     "data": {
      "image/png": "[encoded data removed]",
      "text/plain": [
       "<Figure size 2160x432 with 1 Axes>"
      ]
     },
     "metadata": {
      "needs_background": "light"
     },
     "output_type": "display_data"
    }
   ],
   "source": [
    "resultado = pd.DataFrame()\n",
    "resultado[\"Observado\"] = np.array(y_test)\n",
    "resultado[\"Probabilidades\"] = pd.Series(y_proba_test)\n",
    "resultado[\"Operação\"] = np.where(resultado[\"Probabilidades\"] > corte_compra, 1, np.where(resultado[\"Probabilidades\"] < corte_venda, -1, 0))\n",
    "resultado[\"Operação\"].value_counts()\n",
    "\n",
    "bt = pd.DataFrame()\n",
    "bt[\"Alvo\"] = df[\"Alvo_Contínuo\"][ini_teste:fim_teste].reset_index(drop = True)\n",
    "bt[\"Sinal\"] = resultado[\"Operação\"]\n",
    "bt.index = df[\"Alvo_Contínuo\"][ini_teste:fim_teste].index\n",
    "\n",
    "# Acrescentando Stop\n",
    "bt = bt.join(df[[\"Stop_Long\", \"Stop_Short\"]])\n",
    "bt[\"Retorno Long\"] = np.where(bt[\"Sinal\"] == 1, bt[\"Alvo\"], 0)\n",
    "bt[\"Retorno Short\"] = np.where(bt[\"Sinal\"] == -1, -bt[\"Alvo\"], 0)\n",
    "bt[\"Retorno Long\"] = np.where(bt[\"Stop_Long\"] == 1, -STOP, bt[\"Retorno Long\"])\n",
    "bt[\"Retorno Short\"] = np.where(bt[\"Stop_Short\"] == 1, -STOP, bt[\"Retorno Short\"])\n",
    "bt[\"Retorno Diário\"] = bt[\"Retorno Long\"] + bt[\"Retorno Short\"]\n",
    "\n",
    "bt[\"Retorno Acumulado\"] = (bt[\"Retorno Diário\"] + 1).cumprod()\n",
    "bt[\"Retorno BH\"] = (bt[\"Alvo\"] + 1).cumprod()\n",
    "\n",
    "print(\"Retorno BH:\", (bt.tail(1)[\"Retorno BH\"].values-1)*100, \"%\")\n",
    "print(\"Retorno do Modelo:\", (bt.tail(1)[\"Retorno Acumulado\"].values-1)*100, \"%\")\n",
    "\n",
    "bt[[\"Retorno Acumulado\", \"Retorno BH\"]].plot(figsize=(30,6))"
   ]
  },
  {
   "cell_type": "code",
   "execution_count": null,
   "metadata": {},
   "outputs": [],
   "source": []
  }
 ],
 "metadata": {
  "kernelspec": {
   "display_name": "Python 3 (ipykernel)",
   "language": "python",
   "name": "python3"
  },
  "language_info": {
   "codemirror_mode": {
    "name": "ipython",
    "version": 3
   },
   "file_extension": ".py",
   "mimetype": "text/x-python",
   "name": "python",
   "nbconvert_exporter": "python",
   "pygments_lexer": "ipython3",
   "version": "3.8.5"
  }
 },
 "nbformat": 4,
 "nbformat_minor": 4
}

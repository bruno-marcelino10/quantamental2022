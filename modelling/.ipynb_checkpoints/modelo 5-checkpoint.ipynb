{
 "cells": [
  {
   "cell_type": "markdown",
   "metadata": {},
   "source": [
    "# Modelo 5: Regressão"
   ]
  },
  {
   "cell_type": "markdown",
   "metadata": {},
   "source": [
    "# Importação de Variáveis e Indicadores"
   ]
  },
  {
   "cell_type": "code",
   "execution_count": 1,
   "metadata": {},
   "outputs": [],
   "source": [
    "import pandas as pd\n",
    "import numpy as np\n",
    "import matplotlib.pyplot as plt\n",
    "\n",
    "btc = pd.read_excel(\"../wrangled_data/serie_bitcoin.xlsx\", index_col = \"Data\")\n",
    "variaveis = pd.read_excel(\"../wrangled_data/variaveis.xlsx\", index_col = \"Data\")\n",
    "\n",
    "stop_fixo = pd.read_excel(\"../wrangled_data/stop_fixo.xlsx\", index_col = \"Data\")\n",
    "stop_vol = pd.read_excel(\"../wrangled_data/stop_vol.xlsx\", index_col = \"Data\")"
   ]
  },
  {
   "cell_type": "markdown",
   "metadata": {},
   "source": [
    "# Separação Treinamento - Teste"
   ]
  },
  {
   "cell_type": "code",
   "execution_count": 29,
   "metadata": {},
   "outputs": [],
   "source": [
    "variaveis.dropna(inplace = True)\n",
    "df = variaveis.join(stop_fixo)\n",
    "\n",
    "# Período de Treinamento\n",
    "ini_treino = \"2011-02-01\"\n",
    "fim_treino = \"2018-12-31\"\n",
    "X_train = variaveis[ini_treino:fim_treino]\n",
    "y_train = df[\"Alvo_Contínuo\"][ini_treino:fim_treino]\n",
    "\n",
    "# Período de Teste\n",
    "ini_teste = \"2019-01-01\"\n",
    "fim_teste = \"2021-07-31\"\n",
    "X_test = variaveis[ini_teste:fim_teste]\n",
    "y_test = df[\"Alvo_Contínuo\"][ini_teste:fim_teste]"
   ]
  },
  {
   "cell_type": "markdown",
   "metadata": {},
   "source": [
    "# Modelagem"
   ]
  },
  {
   "cell_type": "code",
   "execution_count": 9,
   "metadata": {},
   "outputs": [],
   "source": [
    "from sklearn.neural_network import MLPRegressor\n",
    "from sklearn.metrics import mean_absolute_error, r2_score, mean_squared_error\n",
    "from sklearn.model_selection import GridSearchCV"
   ]
  },
  {
   "cell_type": "markdown",
   "metadata": {},
   "source": [
    "### Otimização\n",
    "\n",
    "Hiperparâmetros a serem otimizados:\n",
    "\n",
    "* hidden_layer_sizes -> tupla contendo o número de neurônios dentro de cada camada (padrão: uma camada de 100 neurons)\n",
    "* max_iter -> número máximo de iterações a serem realizadas pelo método de backpropagation\n",
    "* alpha -> o valor máximo de alteração dos coeficientes em cada iteração, para minimizar a função de custo (padrão: 0.0001)\n",
    "* solver -> Algoritmo utilizado para encontrar a solução ótima, cujo tempo de obtenção da resposta varia. Opções: 'lbfgs', 'sgd' e 'adam'."
   ]
  },
  {
   "cell_type": "markdown",
   "metadata": {},
   "source": [
    "#### Treinamento"
   ]
  },
  {
   "cell_type": "code",
   "execution_count": 34,
   "metadata": {},
   "outputs": [
    {
     "name": "stdout",
     "output_type": "stream",
     "text": [
      "Melhor conjunto de parâmetros:\n",
      " {'alpha': 10.0, 'max_iter': 100}\n"
     ]
    },
    {
     "name": "stderr",
     "output_type": "stream",
     "text": [
      "C:\\Users\\Bruno Marcelino\\anaconda3\\lib\\site-packages\\sklearn\\neural_network\\_multilayer_perceptron.py:692: ConvergenceWarning: Stochastic Optimizer: Maximum iterations (100) reached and the optimization hasn't converged yet.\n",
      "  warnings.warn(\n"
     ]
    }
   ],
   "source": [
    "modelo = MLPRegressor(random_state = 42, shuffle = True, activation = \"tanh\", solver = \"sgd\", learning_rate = \"adaptive\")\n",
    "\n",
    "parametros = {'alpha': np.logspace(-1, 1, 20),\n",
    "              'max_iter': [5, 15, 25, 50, 100]}\n",
    "\n",
    "melhor_modelo = GridSearchCV(modelo, parametros, n_jobs = -1, cv = 10, scoring = \"neg_root_mean_squared_error\")\n",
    "melhor_modelo.fit(X_train, y_train)\n",
    "\n",
    "print('Melhor conjunto de parâmetros:\\n', melhor_modelo.best_params_)"
   ]
  },
  {
   "cell_type": "markdown",
   "metadata": {},
   "source": [
    "#### Teste"
   ]
  },
  {
   "cell_type": "code",
   "execution_count": 35,
   "metadata": {},
   "outputs": [],
   "source": [
    "y_pred_train = melhor_modelo.predict(X_train)\n",
    "y_pred_test = melhor_modelo.predict(X_test)"
   ]
  },
  {
   "cell_type": "markdown",
   "metadata": {},
   "source": [
    "#### Avaliação"
   ]
  },
  {
   "cell_type": "code",
   "execution_count": 36,
   "metadata": {},
   "outputs": [
    {
     "name": "stdout",
     "output_type": "stream",
     "text": [
      "-0.0201357123294279\n",
      "0.03362472865674677\n",
      "0.05655866460531977\n",
      "10.659383433454531\n"
     ]
    }
   ],
   "source": [
    "# Treinamento\n",
    "print(r2_score(y_train, y_pred_train)) # R-Quadrado\n",
    "print(mean_absolute_error(y_train, y_pred_train)) # Erro Absoluto Médio\n",
    "print(mean_squared_error(y_train, y_pred_train, squared = False)) # Raiz do Erro Quadrático Médio (RMSE)\n",
    "print(mean_absolute_error(y_train, y_pred_train)/y_test.mean()) # MAE / Média do conjunto"
   ]
  },
  {
   "cell_type": "code",
   "execution_count": 37,
   "metadata": {},
   "outputs": [
    {
     "name": "stdout",
     "output_type": "stream",
     "text": [
      "-0.14122485551712693\n",
      "0.027453859430241617\n",
      "0.042371146411797296\n",
      "8.703154674718506\n"
     ]
    }
   ],
   "source": [
    "# Teste\n",
    "print(r2_score(y_test, y_pred_test)) # R-Quadrado\n",
    "print(mean_absolute_error(y_test, y_pred_test)) # Erro Absoluto Médio\n",
    "print(mean_squared_error(y_test, y_pred_test, squared = False)) # Raiz do Erro Quadrático Médio (RMSE)\n",
    "print(mean_absolute_error(y_test, y_pred_test)/y_test.mean()) # MAE / Média do conjunto"
   ]
  },
  {
   "cell_type": "markdown",
   "metadata": {},
   "source": [
    "#### Backtest"
   ]
  },
  {
   "cell_type": "code",
   "execution_count": 38,
   "metadata": {},
   "outputs": [
    {
     "data": {
      "text/plain": [
       "array([ 1.56045201e-03,  1.57202313e-03,  1.57439649e-03,  1.57723607e-03,\n",
       "        1.57761504e-03,  1.57083646e-03,  1.58546118e-03,  1.58354614e-03,\n",
       "        1.57613943e-03,  1.58076743e-03,  1.58458707e-03,  1.58173162e-03,\n",
       "        1.61011652e-03,  1.61307462e-03,  1.61498461e-03,  1.62071316e-03,\n",
       "        1.61041833e-03,  1.65424173e-03,  1.61947410e-03,  1.59850412e-03,\n",
       "        1.61662604e-03,  1.61809142e-03,  1.66633047e-03,  1.62829523e-03,\n",
       "        1.62771124e-03,  1.64444613e-03,  1.60943758e-03,  1.60597541e-03,\n",
       "        1.60307120e-03,  1.61780174e-03,  1.62394687e-03,  1.61337954e-03,\n",
       "        1.63926006e-03,  1.62830996e-03,  1.65892349e-03,  1.63537267e-03,\n",
       "        1.62709505e-03,  1.63897336e-03,  1.64606134e-03,  1.63243782e-03,\n",
       "        1.62829871e-03,  1.77327484e-03,  1.69060589e-03,  1.67818880e-03,\n",
       "        1.71333988e-03,  1.74778638e-03,  1.73544092e-03,  1.69970798e-03,\n",
       "        1.68845410e-03,  1.71531951e-03,  1.69773316e-03,  1.75247040e-03,\n",
       "        1.69853281e-03,  1.70742132e-03,  1.76318565e-03,  1.76156858e-03,\n",
       "        1.75258127e-03,  1.71654987e-03,  1.69989662e-03,  1.78952734e-03,\n",
       "        1.79202792e-03,  1.76158147e-03,  1.62018274e-03,  1.57366178e-03,\n",
       "        1.56477693e-03,  1.55611390e-03,  1.54917104e-03,  1.54994298e-03,\n",
       "        1.58352269e-03,  1.62374772e-03,  1.65787654e-03,  1.69177182e-03,\n",
       "        2.27074987e-03,  2.14311213e-03,  2.12548632e-03,  2.16056713e-03,\n",
       "        2.24365061e-03,  2.05814169e-03,  2.21412688e-03,  2.27493296e-03,\n",
       "        2.05167543e-03,  2.16769384e-03,  2.15099390e-03,  2.21517668e-03,\n",
       "        2.25456762e-03,  2.26854537e-03,  2.45188726e-03,  2.10431027e-03,\n",
       "        1.99725626e-03,  2.00339782e-03,  1.98951806e-03,  1.70846996e-03,\n",
       "        1.61730078e-03,  1.60731045e-03,  1.59012191e-03,  1.57505722e-03,\n",
       "        1.58439856e-03,  1.63376354e-03,  1.64685384e-03,  1.67918983e-03,\n",
       "        1.72233267e-03,  1.85005310e-03,  1.85802337e-03,  1.75856583e-03,\n",
       "        1.71414540e-03,  1.77652460e-03,  1.84102385e-03,  1.80974998e-03,\n",
       "        1.83773773e-03,  1.91411852e-03,  1.92421572e-03,  1.97661819e-03,\n",
       "        2.02839811e-03,  2.06145329e-03,  2.11939116e-03,  1.91116803e-03,\n",
       "        1.89181956e-03,  1.82557185e-03,  1.74765984e-03,  1.72408240e-03,\n",
       "        1.58141127e-03,  1.58752244e-03,  1.54488344e-03,  1.42807915e-03,\n",
       "        1.30737436e-03,  1.36140887e-03,  1.38336398e-03,  1.55733632e-03,\n",
       "        1.60354756e-03,  1.74120716e-03,  1.74154946e-03,  1.71061295e-03,\n",
       "        1.67678422e-03,  1.65276168e-03,  1.58416660e-03,  1.54924319e-03,\n",
       "        1.62739558e-03,  1.63418111e-03,  1.62736252e-03,  1.58056251e-03,\n",
       "        1.46103600e-03,  1.46461743e-03,  1.75184776e-03,  1.66277038e-03,\n",
       "        1.89994730e-03,  1.98052004e-03,  1.96651488e-03,  2.07262952e-03,\n",
       "        2.11369099e-03,  1.97937580e-03,  1.85950733e-03,  1.75060309e-03,\n",
       "        1.72275609e-03,  1.68700438e-03,  1.75771120e-03,  2.00418426e-03,\n",
       "        1.87828832e-03,  1.86525616e-03,  1.92699894e-03,  2.04791511e-03,\n",
       "        2.14886666e-03,  2.23430960e-03,  2.16607196e-03,  2.26387212e-03,\n",
       "        2.42907174e-03,  2.40852640e-03,  2.57847480e-03,  2.32124451e-03,\n",
       "        2.11977935e-03,  2.24534214e-03,  2.32050297e-03,  2.19498020e-03,\n",
       "        2.23099582e-03,  2.07306976e-03,  2.66609043e-03,  2.93304612e-03,\n",
       "        3.05279908e-03,  3.09468138e-03,  3.40791365e-03,  2.94076466e-03,\n",
       "        2.80520038e-03,  3.00656743e-03,  3.04154504e-03,  3.12779148e-03,\n",
       "        3.10420115e-03,  3.29594785e-03,  2.73551808e-03,  2.54782136e-03,\n",
       "        2.51803763e-03,  2.61999222e-03,  2.83840241e-03,  3.30400568e-03,\n",
       "        3.69134067e-03,  3.54833496e-03,  3.30686284e-03,  3.60238916e-03,\n",
       "        3.65666272e-03,  3.89353391e-03,  4.02682075e-03,  4.14835405e-03,\n",
       "        4.51878915e-03,  4.52747444e-03,  4.07311188e-03,  4.26224456e-03,\n",
       "        4.99752545e-03,  6.13777948e-03,  5.76714876e-03,  4.64477102e-03,\n",
       "        4.41256583e-03,  5.23190736e-03,  4.27818969e-03,  4.25077113e-03,\n",
       "        4.34637314e-03,  4.21874843e-03,  6.03842437e-03,  5.98765873e-03,\n",
       "        5.84201645e-03,  6.21464117e-03,  6.93667267e-03,  7.98862835e-03,\n",
       "        8.35975672e-03,  8.31918831e-03,  9.23137926e-03,  1.07559769e-02,\n",
       "        7.25431799e-03,  8.00678760e-03,  7.25123732e-03,  6.02176133e-03,\n",
       "        4.97623364e-03,  5.73596038e-03,  5.83740675e-03,  6.06612112e-03,\n",
       "        6.19523577e-03,  5.49318617e-03,  4.34431070e-03,  4.55358741e-03,\n",
       "        5.02943176e-03,  6.34731456e-03,  9.50294770e-03,  8.33102577e-03,\n",
       "        6.09768260e-03,  5.89520767e-03,  6.95397818e-03,  8.03302289e-03,\n",
       "        6.74948309e-03,  5.23427118e-03,  4.77824344e-03,  4.74960468e-03,\n",
       "        4.36894205e-03,  4.22155672e-03,  5.33326605e-03,  3.85565516e-03,\n",
       "        3.17102737e-03,  1.12925668e-02,  8.99677352e-03,  5.53141670e-03,\n",
       "        4.40470643e-03,  3.14100309e-03,  4.38404645e-03, -4.11081094e-04,\n",
       "       -6.42602885e-03, -1.35832960e-02, -2.07789567e-02, -1.94559699e-02,\n",
       "       -2.08059440e-02, -1.38274680e-02, -1.03727731e-02, -1.61395722e-02,\n",
       "       -2.47913553e-02, -1.68065427e-02, -1.36581977e-02, -1.27280342e-02,\n",
       "       -4.86811758e-04, -3.60584597e-03,  1.02351032e-03, -1.33944775e-02,\n",
       "       -1.41989161e-02, -2.08690493e-02, -1.94305623e-02, -2.98077562e-02,\n",
       "       -2.31518569e-02, -1.53940953e-02, -1.14275245e-02, -2.36166940e-02,\n",
       "       -2.38283900e-02, -2.44091707e-02, -1.95349745e-02, -2.09061157e-02,\n",
       "       -2.32266721e-02, -1.66257018e-02, -1.87763274e-02, -2.18181061e-02,\n",
       "       -6.93264804e-03, -7.67169156e-04,  4.16587539e-03, -6.12715097e-05,\n",
       "       -1.37523462e-03,  6.79917210e-03,  4.91339442e-03,  1.58443951e-02,\n",
       "        1.92211367e-02,  1.98102727e-02,  2.58107249e-02,  1.05079331e-02,\n",
       "        1.10281673e-02,  5.58771174e-02, -1.95021995e-02, -2.68437112e-02,\n",
       "       -6.09705379e-02, -4.04015585e-02, -3.57563835e-02, -3.58398867e-02,\n",
       "       -7.48895238e-02, -6.39572582e-02, -2.96079961e-02, -6.47082322e-02,\n",
       "       -3.61653026e-02, -7.75357087e-02, -3.37961887e-02, -1.86001963e-02,\n",
       "       -3.69000190e-02, -4.35677553e-02, -8.21764100e-02, -6.79298270e-02,\n",
       "       -7.62978363e-02, -3.34403202e-02, -1.87215435e-02, -2.72453591e-02,\n",
       "       -4.10262136e-02, -7.38284688e-02, -2.71425816e-02, -2.13686043e-02,\n",
       "       -7.89994693e-02, -9.26007084e-02, -5.04629207e-02, -2.87633366e-02,\n",
       "       -4.40459754e-02, -6.67498049e-03, -5.62970844e-03,  3.12434010e-02,\n",
       "       -1.16453927e-02, -9.32842095e-03,  1.47095524e-04,  4.64532598e-03,\n",
       "        3.38069317e-02,  6.84959741e-02,  1.53567057e-03,  1.53566953e-03,\n",
       "        1.53566936e-03,  1.53566964e-03,  1.53567135e-03,  1.53567603e-03,\n",
       "        1.53568040e-03,  1.53568656e-03,  1.53569301e-03,  1.53568569e-03,\n",
       "        1.53570346e-03,  1.53569811e-03,  1.53569665e-03,  1.53571167e-03,\n",
       "        1.53570986e-03,  1.53571975e-03,  1.53571038e-03,  1.53570741e-03,\n",
       "        1.53572454e-03,  1.53570867e-03,  1.53572744e-03,  1.53573688e-03,\n",
       "        1.53576289e-03,  1.53573991e-03,  1.53574699e-03,  1.53574045e-03,\n",
       "        1.53577536e-03,  1.53581554e-03,  1.53581266e-03,  1.53578038e-03,\n",
       "        1.53580752e-03,  1.53583695e-03,  1.53582483e-03,  1.53584301e-03,\n",
       "        1.53578515e-03,  1.53586355e-03,  1.53587243e-03,  1.53586699e-03,\n",
       "        1.53589687e-03,  1.53585997e-03,  1.53590850e-03,  1.53585070e-03,\n",
       "        1.53590733e-03,  1.53587346e-03,  1.53590161e-03,  1.53586843e-03,\n",
       "        1.53586555e-03,  1.53584843e-03,  1.53579546e-03,  1.53581103e-03,\n",
       "        1.53578417e-03,  1.53578214e-03,  1.53581321e-03,  1.53588320e-03,\n",
       "        1.53574348e-03,  1.53573616e-03,  1.53571125e-03,  1.53569150e-03,\n",
       "        1.53568925e-03,  1.53568482e-03,  1.53568985e-03,  1.53568749e-03,\n",
       "        1.53568929e-03,  1.53569575e-03,  1.53570898e-03,  1.53572196e-03,\n",
       "        1.53571485e-03,  1.53571983e-03,  1.53573455e-03,  1.53571863e-03,\n",
       "        1.53574805e-03,  1.53575413e-03,  1.53572195e-03,  1.53573582e-03,\n",
       "        1.53576317e-03,  1.53599496e-03,  1.53625889e-03,  1.53642887e-03,\n",
       "        1.53691477e-03,  1.53672828e-03,  1.53699362e-03,  1.53681929e-03,\n",
       "        1.53704912e-03,  1.53729604e-03,  1.53678825e-03,  1.53670743e-03,\n",
       "        1.53698719e-03,  1.53697381e-03,  1.53679959e-03,  1.53695307e-03,\n",
       "        1.53738697e-03,  1.53708361e-03,  1.53733958e-03,  1.53800265e-03,\n",
       "        1.53812053e-03,  1.53812722e-03,  1.53748274e-03,  1.53789157e-03,\n",
       "        1.53771811e-03,  1.53823370e-03,  1.53804100e-03,  1.53802004e-03,\n",
       "        1.53832994e-03,  1.53872332e-03,  1.53853736e-03,  1.53766402e-03,\n",
       "        1.53901294e-03,  1.53878248e-03,  1.53798297e-03,  1.53804035e-03,\n",
       "        1.53826258e-03,  1.53887528e-03,  1.53837252e-03,  1.53785492e-03,\n",
       "        1.53851210e-03,  1.53801089e-03,  1.53819714e-03,  1.53772347e-03,\n",
       "        1.53759218e-03,  1.53776761e-03,  1.53708911e-03,  1.53676538e-03,\n",
       "        1.53726932e-03,  1.53729659e-03,  1.53701512e-03,  1.53751650e-03,\n",
       "        1.53716030e-03,  1.53697222e-03,  1.53685275e-03,  1.53719771e-03,\n",
       "        1.53681327e-03,  1.53694366e-03,  1.53661245e-03,  1.53644501e-03,\n",
       "        1.53669564e-03,  1.53666299e-03,  1.53634471e-03,  1.53637453e-03,\n",
       "        1.53637385e-03,  1.53627594e-03,  1.53622929e-03,  1.53600494e-03,\n",
       "        1.53606658e-03,  1.53611622e-03,  1.53598106e-03,  1.53627062e-03,\n",
       "        1.53617424e-03,  1.53615664e-03,  1.53637996e-03,  1.53647993e-03,\n",
       "        1.53692747e-03,  1.53652907e-03,  1.53662009e-03,  1.53694258e-03,\n",
       "        1.53678595e-03,  1.53691795e-03,  1.53653588e-03,  1.53615548e-03,\n",
       "        1.53606286e-03,  1.53592969e-03,  1.53581169e-03,  1.53585762e-03,\n",
       "        1.53594969e-03,  1.53595775e-03,  1.53583863e-03,  1.53579525e-03,\n",
       "        1.53576142e-03,  1.53575836e-03,  1.53569174e-03,  1.53568142e-03,\n",
       "        1.53567479e-03,  1.53567125e-03,  1.53566991e-03,  1.53567000e-03,\n",
       "        1.53566953e-03,  1.53566903e-03,  1.53566917e-03,  1.53567080e-03,\n",
       "        1.53568538e-03,  1.53569873e-03,  1.53571744e-03,  1.53570038e-03,\n",
       "        1.53572247e-03,  1.53573142e-03,  1.53576694e-03,  1.53574848e-03,\n",
       "        1.53572865e-03,  1.53572506e-03,  1.53570986e-03,  1.53570991e-03,\n",
       "        1.53573140e-03,  1.53574159e-03,  1.53570074e-03,  1.53568011e-03,\n",
       "        1.53567797e-03,  1.53567394e-03,  1.53567296e-03,  1.53567275e-03,\n",
       "        1.53567604e-03,  1.53567464e-03,  1.53567831e-03,  1.53567504e-03,\n",
       "        1.53567210e-03,  1.53567133e-03,  1.53567036e-03,  1.53567052e-03,\n",
       "        1.53567149e-03,  1.53567381e-03,  1.53568343e-03,  1.53568919e-03,\n",
       "        1.53570061e-03,  1.53570775e-03,  1.53573074e-03,  1.53572170e-03,\n",
       "        1.53572989e-03,  1.53572159e-03,  1.53573544e-03,  1.53570509e-03,\n",
       "        1.53569838e-03,  1.53568993e-03,  1.53570408e-03,  1.53570372e-03,\n",
       "        1.53576836e-03,  1.53575593e-03,  1.53575831e-03,  1.53578913e-03,\n",
       "        1.53574997e-03,  1.53576878e-03,  1.53576828e-03,  1.53579909e-03,\n",
       "        1.53580430e-03,  1.53577899e-03,  1.53578873e-03,  1.53583420e-03,\n",
       "        1.53589488e-03,  1.53581429e-03,  1.53583836e-03,  1.53593220e-03,\n",
       "        1.53582573e-03,  1.53578704e-03,  1.53577142e-03,  1.53574081e-03,\n",
       "        1.53570118e-03,  1.53569790e-03,  1.53571182e-03,  1.53573054e-03,\n",
       "        1.53570206e-03,  1.53569732e-03,  1.53570138e-03,  1.53571677e-03,\n",
       "        1.53573251e-03,  1.53583543e-03,  1.53582115e-03,  1.53620819e-03,\n",
       "        1.53645891e-03,  1.53631026e-03,  1.53649000e-03,  1.53642486e-03,\n",
       "        1.53672168e-03,  1.53636573e-03,  1.53653707e-03,  1.53610814e-03,\n",
       "        1.53602055e-03,  1.53596429e-03,  1.53586206e-03,  1.53575832e-03,\n",
       "        1.53572357e-03,  1.53572508e-03,  1.53569827e-03,  1.53570304e-03,\n",
       "        1.53575887e-03,  1.53588767e-03,  1.53603563e-03,  1.53662350e-03,\n",
       "        1.53673259e-03,  1.53655375e-03,  1.53685847e-03,  1.53691647e-03,\n",
       "        1.53692420e-03,  1.53651245e-03,  1.53642110e-03,  1.53655371e-03,\n",
       "        1.53663068e-03,  1.53723272e-03,  1.53823738e-03,  1.53816283e-03,\n",
       "        1.53856967e-03,  1.53886082e-03,  1.53817864e-03,  1.53786066e-03,\n",
       "        1.53774312e-03,  1.53894887e-03,  1.53925390e-03,  1.53977931e-03,\n",
       "        1.54019131e-03,  1.54195925e-03,  1.54087485e-03,  1.54608105e-03,\n",
       "        1.54529162e-03,  1.54587361e-03,  1.54808342e-03,  1.54572075e-03,\n",
       "        1.54923335e-03,  1.54671086e-03,  1.54518844e-03,  1.54441835e-03,\n",
       "        1.54712055e-03,  1.54902976e-03,  1.54827570e-03,  1.54365026e-03,\n",
       "        1.54177847e-03,  1.54256403e-03,  1.54169409e-03,  1.54190678e-03,\n",
       "        1.54229655e-03,  1.54439545e-03,  1.54269106e-03])"
      ]
     },
     "execution_count": 38,
     "metadata": {},
     "output_type": "execute_result"
    }
   ],
   "source": [
    "y_pred_test"
   ]
  },
  {
   "cell_type": "code",
   "execution_count": 39,
   "metadata": {},
   "outputs": [
    {
     "name": "stdout",
     "output_type": "stream",
     "text": [
      "Retorno BH: [368.67672704] %\n",
      "Retorno do Modelo: [-32.76807971] %\n"
     ]
    },
    {
     "data": {
      "text/plain": [
       "<AxesSubplot:xlabel='Data'>"
      ]
     },
     "execution_count": 39,
     "metadata": {},
     "output_type": "execute_result"
    },
    {
     "data": {
      "image/png": "[encoded data removed]",
      "text/plain": [
       "<Figure size 2160x432 with 1 Axes>"
      ]
     },
     "metadata": {
      "needs_background": "light"
     },
     "output_type": "display_data"
    }
   ],
   "source": [
    "resultado = pd.DataFrame()\n",
    "resultado[\"Observado\"] = np.array(y_test)\n",
    "resultado[\"Operação\"] = np.where(pd.Series(y_pred_test) >= 0, 1, 0)\n",
    "resultado[\"Operação\"].value_counts()\n",
    "\n",
    "bt = pd.DataFrame()\n",
    "bt[\"Alvo\"] = df[\"Alvo_Contínuo\"][ini_teste:fim_teste].reset_index(drop = True)\n",
    "bt[\"Sinal\"] = resultado[\"Operação\"]\n",
    "bt.index = df[\"Alvo_Contínuo\"][ini_teste:fim_teste].index\n",
    "\n",
    "bt[\"Retorno Diário\"] = np.where(bt[\"Sinal\"] < bt[\"Alvo\"], bt[\"Alvo\"], -bt[\"Alvo\"])\n",
    "\n",
    "bt[\"Retorno Acumulado\"] = (bt[\"Retorno Diário\"] + 1).cumprod()\n",
    "bt[\"Retorno BH\"] = (bt[\"Alvo\"] + 1).cumprod()\n",
    "\n",
    "print(\"Retorno BH:\", (bt.tail(1)[\"Retorno BH\"].values-1)*100, \"%\")\n",
    "print(\"Retorno do Modelo:\", (bt.tail(1)[\"Retorno Acumulado\"].values-1)*100, \"%\")\n",
    "\n",
    "bt[[\"Retorno Acumulado\", \"Retorno BH\"]].plot(figsize=(30,6))"
   ]
  },
  {
   "cell_type": "code",
   "execution_count": 40,
   "metadata": {},
   "outputs": [],
   "source": [
    "# Acrescentando Stop\n",
    "# stop = 0.3\n",
    "# bt = bt.join(df[[\"Stop_Long\", \"Stop_Short\"]])\n",
    "# bt[\"Retorno Long\"] = np.where(bt[\"Sinal\"] == 1, bt[\"Alvo\"], 0)\n",
    "# bt[\"Retorno Short\"] = np.where(bt[\"Sinal\"] == -1, -bt[\"Alvo\"], 0)\n",
    "# # bt[\"Retorno Long\"] = np.where(bt[\"Stop_Long\"] == 1, -stop, bt[\"Retorno Long\"])\n",
    "# # bt[\"Retorno Short\"] = np.where(bt[\"Stop_Short\"] == 1, -stop, bt[\"Retorno Short\"])\n",
    "# bt[\"Retorno Diário\"] = bt[\"Retorno Long\"] + bt[\"Retorno Short\"]"
   ]
  }
 ],
 "metadata": {
  "kernelspec": {
   "display_name": "Python 3 (ipykernel)",
   "language": "python",
   "name": "python3"
  },
  "language_info": {
   "codemirror_mode": {
    "name": "ipython",
    "version": 3
   },
   "file_extension": ".py",
   "mimetype": "text/x-python",
   "name": "python",
   "nbconvert_exporter": "python",
   "pygments_lexer": "ipython3",
   "version": "3.8.5"
  }
 },
 "nbformat": 4,
 "nbformat_minor": 4
}
